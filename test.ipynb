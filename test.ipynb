{
 "cells": [
  {
   "cell_type": "code",
   "execution_count": null,
   "metadata": {},
   "outputs": [],
   "source": [
    "import carmapy\n",
    "import numpy as np\n",
    "\n",
    "%load_ext autoreload\n",
    "%autoreload 2"
   ]
  },
  {
   "cell_type": "code",
   "execution_count": null,
   "metadata": {},
   "outputs": [],
   "source": [
    "k_B = 1.381e-16 #erg/K\n",
    "BAR_TO_BARYE = 1e6\n",
    "m_p = 1.673e-24 # g\n",
    "STEFAN_CONSTANT = 5.67e-5 #erg/(cm^2 * s * K^4)\n",
    "N_A = 6.022e23\n",
    "\n",
    "atomic_mass = np.array([0, 2, 1, 1, 1, 66.939, 63.866, 44.009, 4.002, 18.015, 16.04, 28.01, 17.031, 28.014, 33.998, 34.08, 55.845, 22.990, 39.098])\n",
    "\n"
   ]
  },
  {
   "cell_type": "code",
   "execution_count": null,
   "metadata": {},
   "outputs": [],
   "source": [
    "data = np.genfromtxt(\"preprocessing/t1400g316f3_m0.0_co1.0.pt\", skip_header=2)\n",
    "data[:, 1] = data[:, 1] * BAR_TO_BARYE\n",
    "\n",
    "P_levels = data[:, 1]\n",
    "T_levels = data[:, 2]\n",
    "\n",
    "P_centers = (P_levels[:-1] + P_levels[:1])/2\n",
    "T_centers = (T_levels[:-1] + T_levels[:1])/2\n",
    "\n",
    "g = 316 #cm/s^2\n",
    "teff = 1400 #K\n",
    "\n",
    "μ_levels = np.sum(atomic_mass * data[:, 3:], axis = 1)/np.sum(data[:, 3:], axis = 1)\n",
    "μ_centers = 1/2 * (μ_levels[1:] + μ_levels[:-1])\n",
    "\n",
    "H_levels = k_B * T_levels/(μ_levels * m_p * g)\n",
    "H_centers = k_B * T_centers/(μ_centers * m_p * g)\n",
    "\n",
    "z_levels = np.zeros(data.shape[0])\n",
    "\n",
    "for i in range(1, z_levels.shape[0]):\n",
    "    delta_z = H_levels[i] * np.log(data[i, 1]/data[i-1, 1])\n",
    "\n",
    "    z_levels[i] = z_levels[i-1] + delta_z\n",
    "\n",
    "z_centers = (z_levels[1:] + z_levels[:-1])/2\n",
    "\n",
    "\n",
    "c_p = 5/2 * k_B/(μ_centers * m_p) # erg / (g K)\n",
    "ρ = μ_centers * P_centers * m_p/(k_B * T_centers) \n",
    "F = STEFAN_CONSTANT * teff**4\n",
    "\n",
    "Γ = (T_levels[1:] - T_levels[:-1]) / (z_levels[1:] - z_levels[:-1])\n",
    "Γ_a = g/c_p\n",
    "lapse_ratio = Γ/Γ_a\n",
    "\n",
    "dlnP = np.log(P_levels[:-1]/P_levels[1:])\n",
    "lapse_ratio = (T_levels[:-1]- T_levels[1:])/dlnP/(2/7 * T_centers)\n",
    "\n",
    "\n",
    "L = H_centers * np.array([max(0.1, lapse_ratio[i]) for i in range(len(Γ))])\n",
    "k_zz = H_centers/3 * (L/H_centers)**(4/3)* (k_B * F/(μ_centers*m_p * ρ * c_p))**(1/3)\n",
    "\n",
    "k_zz_levels = np.zeros(P_levels.shape)\n",
    "k_zz_levels[1:-1] = (k_zz[1:] + k_zz[:-1])/2\n",
    "k_zz_levels[0] = k_zz_levels[1] + 2* (k_zz[0] - k_zz_levels[1])\n",
    "k_zz_levels[-1] = k_zz_levels[-2] + 2* (k_zz[-1] - k_zz_levels[-2])\n",
    "\n",
    "\n",
    "z_centers = np.flip(z_levels[-1] - z_centers)\n",
    "z_levels =np.flip(z_levels[-1] - z_levels)\n",
    "P_centers = np.flip(P_centers)\n",
    "P_levels = np.flip(P_levels)\n",
    "T_centers = np.flip(T_centers)\n",
    "k_zz_levels = np.flip(k_zz_levels)"
   ]
  },
  {
   "cell_type": "code",
   "execution_count": null,
   "metadata": {},
   "outputs": [],
   "source": [
    "carma = carmapy.Carma(\"test3\")\n",
    "carma.add_gas(\"H2O\")\n",
    "\n",
    "\n",
    "carma.set_stepping(dt=100, output_gap=1000, n_tstep=100000)\n",
    "carma.set_physical_params(surface_grav=316,\n",
    "                          wt_mol = 2.389,\n",
    "                          r_planet = 6.991e9)\n",
    "\n",
    "carma.add_hom_group(\"TiO2\", 1e-8)\n",
    "carma.add_het_group(\"Al2O3\", \"TiO2\", 1e-8 * 2**(1/3))\n",
    "carma.add_het_group(\"Fe\", \"TiO2\", 1e-8 * 2**(1/3))\n",
    "carma.add_het_group(\"Mg2SiO4\", \"TiO2\", 1e-8 * 2**(1/3))\n",
    "carma.add_het_group(\"Cr\", \"TiO2\", 1e-8 * 2**(1/3))\n",
    "carma.add_het_group(\"MnS\", \"TiO2\", 1e-8 * 2**(1/3))\n",
    "carma.add_het_group(\"Na2S\", \"TiO2\", 1e-8 * 2**(2/3))\n",
    "carma.add_hom_group(\"Fe\", 1e-8)\n",
    "carma.add_hom_group(\"Cr\", 1e-8)\n",
    "carma.add_hom_group(\"KCl\", 1e-8)\n",
    "carma.add_het_group(\"ZnS\", \"KCl\", 1e-8 * 2**(1/3))\n",
    "\n",
    "nmr_dict = {\n",
    "    \"H2O\": 0,\n",
    "    \"TiO2\": .166e-6,\n",
    "    \"Fe\": .147e-3,\n",
    "    \"Mg2SiO4\": 3.8158e-5,\n",
    "    \"Cr\": 4.9447E-07,\n",
    "    \"MnS\": 0.0,\n",
    "    \"Na2S\": 0.541E-05, \n",
    "    \"ZnS\": 0.0, \n",
    "    \"KCl\": 0.602E-07, \n",
    "    \"Al2O3\": 0.0\n",
    "}\n",
    "\n",
    "carma.set_nmr(nmr_dict)\n",
    "\n",
    "carma.add_z(z_centers, z_levels)\n",
    "carma.add_P(P_centers, P_levels)\n",
    "carma.add_kzz(k_zz_levels)\n",
    "carma.add_T(T_centers)"
   ]
  },
  {
   "cell_type": "code",
   "execution_count": null,
   "metadata": {},
   "outputs": [],
   "source": [
    "carma.run()"
   ]
  }
 ],
 "metadata": {
  "kernelspec": {
   "display_name": "Python 3.11.5 64-bit ('python-anaconda-2023.09-el8-x86_64')",
   "language": "python",
   "name": "python3"
  },
  "language_info": {
   "codemirror_mode": {
    "name": "ipython",
    "version": 3
   },
   "file_extension": ".py",
   "mimetype": "text/x-python",
   "name": "python",
   "nbconvert_exporter": "python",
   "pygments_lexer": "ipython3",
   "version": "3.11.5"
  },
  "orig_nbformat": 4,
  "vscode": {
   "interpreter": {
    "hash": "062458877234664c3c6148514268bc1d8b06a394fd0142d8bc2ed9d98f9f4bff"
   }
  }
 },
 "nbformat": 4,
 "nbformat_minor": 2
}
